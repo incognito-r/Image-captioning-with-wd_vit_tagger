{
 "cells": [
  {
   "cell_type": "code",
   "execution_count": null,
   "metadata": {},
   "outputs": [],
   "source": [
    "import os\n",
    "import csv\n",
    "import pandas as pd"
   ]
  },
  {
   "cell_type": "code",
   "execution_count": null,
   "metadata": {},
   "outputs": [],
   "source": [
    "\n",
    "data_dir = \"data/CelebA-RAW/\"\n",
    "    \n",
    "captions_path = os.path.join(data_dir, 'CelebA-Captions.csv')\n"
   ]
  },
  {
   "cell_type": "code",
   "execution_count": null,
   "metadata": {},
   "outputs": [],
   "source": [
    "# img_dir = os.path.join(data_dir, 'images/')\n",
    "img_dir = os.path.join(data_dir, 'processed/')\n",
    "\n",
    "# load images\n",
    "valid_ext = ['png', 'jpg', 'jpeg']\n",
    "\n",
    "img_paths = sorted([\n",
    "    os.path.relpath(os.path.join(root, f), img_dir)\n",
    "    for root, _, files in os.walk(img_dir)\n",
    "    for f in files\n",
    "    if os.path.splitext(f)[1][1:].lower() in valid_ext\n",
    "], key=lambda x: int(os.path.splitext(os.path.basename(x))[0]))\n",
    "\n",
    "print(f\"Image Dir: {img_dir}\")\n",
    "print(f\"Total images: {len(img_paths)}\")\n",
    "print(f\"First 5 images: {img_paths[:5]}\")"
   ]
  },
  {
   "cell_type": "code",
   "execution_count": null,
   "metadata": {},
   "outputs": [],
   "source": [
    "default_cap = 'A beautiful portrait of a person'\n",
    "captions = {}\n",
    "with open(captions_path, 'r', encoding='utf-8') as f:\n",
    "    reader = csv.reader(f)\n",
    "    next(reader)  # Skip the header row\n",
    "    for row in reader:\n",
    "        if len(row) < 3:\n",
    "            continue\n",
    "        file_name = os.path.basename(row[0])\n",
    "        captions[file_name] = row[2].strip()\n",
    "\n",
    "print(f\"Total Captions: {len(captions)}\")\n",
    "captions"
   ]
  },
  {
   "cell_type": "code",
   "execution_count": null,
   "metadata": {},
   "outputs": [],
   "source": [
    "# Images and Captions\n",
    "\n",
    "idx = 3\n",
    "\n",
    "img_path = os.path.join(img_dir, img_paths[idx])\n",
    "img_basename = os.path.basename(img_path)\n",
    "print(f\"image: {img_basename}\")\n",
    "print(f\"Image Path: {img_path}\")\n",
    "cap = captions.get(img_basename, \"No cap\")\n",
    "cap"
   ]
  },
  {
   "cell_type": "code",
   "execution_count": null,
   "metadata": {},
   "outputs": [],
   "source": [
    "# get caption\n",
    "import PIL\n",
    "import PIL.Image\n",
    "\n",
    "img = PIL.Image.open(img_path).convert('RGB')\n",
    "\n",
    "caption = captions.get(img_basename, \"CAPTION NOT FOUND\")\n",
    "display(img)\n",
    "caption\n"
   ]
  },
  {
   "cell_type": "code",
   "execution_count": null,
   "metadata": {},
   "outputs": [],
   "source": [
    "#======================================================================"
   ]
  },
  {
   "cell_type": "code",
   "execution_count": null,
   "metadata": {},
   "outputs": [],
   "source": []
  },
  {
   "cell_type": "code",
   "execution_count": null,
   "metadata": {},
   "outputs": [],
   "source": [
    "#============================================================"
   ]
  },
  {
   "cell_type": "code",
   "execution_count": null,
   "metadata": {},
   "outputs": [],
   "source": []
  },
  {
   "cell_type": "code",
   "execution_count": null,
   "metadata": {},
   "outputs": [],
   "source": []
  },
  {
   "cell_type": "code",
   "execution_count": null,
   "metadata": {},
   "outputs": [],
   "source": []
  },
  {
   "cell_type": "code",
   "execution_count": null,
   "metadata": {},
   "outputs": [],
   "source": []
  },
  {
   "cell_type": "code",
   "execution_count": null,
   "metadata": {},
   "outputs": [],
   "source": []
  },
  {
   "cell_type": "code",
   "execution_count": null,
   "metadata": {},
   "outputs": [],
   "source": [
    "!pip show transformers"
   ]
  },
  {
   "cell_type": "code",
   "execution_count": null,
   "metadata": {},
   "outputs": [],
   "source": []
  }
 ],
 "metadata": {
  "kernelspec": {
   "display_name": "ml_env",
   "language": "python",
   "name": "python3"
  },
  "language_info": {
   "codemirror_mode": {
    "name": "ipython",
    "version": 3
   },
   "file_extension": ".py",
   "mimetype": "text/x-python",
   "name": "python",
   "nbconvert_exporter": "python",
   "pygments_lexer": "ipython3",
   "version": "3.11.13"
  }
 },
 "nbformat": 4,
 "nbformat_minor": 2
}
