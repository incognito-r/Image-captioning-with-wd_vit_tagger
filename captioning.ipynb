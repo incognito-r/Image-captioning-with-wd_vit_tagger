{
 "cells": [
  {
   "cell_type": "code",
   "execution_count": 1,
   "id": "5a875c3f",
   "metadata": {},
   "outputs": [],
   "source": [
    "# imports\n",
    "import torch"
   ]
  },
  {
   "cell_type": "code",
   "execution_count": 2,
   "id": "621b91a0",
   "metadata": {},
   "outputs": [
    {
     "name": "stderr",
     "output_type": "stream",
     "text": [
      "c:\\Users\\Incognito-R\\miniconda3\\envs\\ml_env\\Lib\\site-packages\\tqdm\\auto.py:21: TqdmWarning: IProgress not found. Please update jupyter and ipywidgets. See https://ipywidgets.readthedocs.io/en/stable/user_install.html\n",
      "  from .autonotebook import tqdm as notebook_tqdm\n"
     ]
    }
   ],
   "source": [
    "from scripts.image_captions import CaptionGenerator\n",
    "from scripts.image_tags import get_tags"
   ]
  },
  {
   "cell_type": "code",
   "execution_count": 3,
   "id": "086f019b",
   "metadata": {},
   "outputs": [
    {
     "name": "stdout",
     "output_type": "stream",
     "text": [
      "tags: ['sensitive', 'fair_skin', '1girl', 'solo', 'long_hair', 'looking_at_viewer', 'smile', 'jewelry', 'bare_shoulders', 'earrings', 'grin', 'blue_theme']\n",
      "filename: data/sample_images/000001.jpg, -> Showing a female figure by himself flowing hair, with jewelry, sensitive, fair skin, flowing, looking at viewer, smile, bare shoulders, earrings, grin and blue theme. (Words: 25) \n",
      "tags: ['fair_skin', 'general', '1girl', 'solo', 'smile', 'purple_hair', 'teeth', 'blurry', 'grin', 'realistic']\n",
      "filename: data/sample_images/000002.jpg, -> Showing a feminine character single fair skin, general, smile, purple hair, teeth, blurry, grin and realistic. (Words: 16) \n",
      "tags: ['general', 'solo', 'shirt', 'black_hair', '1boy', 'pale_skin', 'upper_body', 'closed_eyes', 'male_focus', 'blurry']\n",
      "filename: data/sample_images/000003.jpg, -> A gentleman solo with ebony hair, shut eyes, general, shirt, jet-black, pale skin, upper body, lowered, male focus and blurry. (Words: 20) \n",
      "tags: ['sensitive', '1girl', 'solo', 'long_hair', 'breasts', 'black_hair', 'pale_skin', 'jewelry', 'medium_breasts', 'jacket', 'closed_eyes', 'earrings', 'zipper', 'realistic', 'leather', 'leather_jacket']\n",
      "filename: data/sample_images/000004.jpg, -> A girl alone appears lush black hair, lowered eyes, with jewelry, sensitive, flowing, breasts, black, pale skin, medium breasts, jacket, shut, earrings, zipper, realistic, leather and leather jacket. (Words: 28) \n",
      "tags: ['general', 'solo', 'pale_skin', '1boy', 'male_focus', 'cover', 'magazine_cover', 'fake_cover', 'fake_magazine_cover']\n",
      "filename: data/sample_images/000005.jpg, -> A gentleman by himself general, pale skin, male focus, cover, magazine cover, fake cover and fake magazine cover. (Words: 18) \n",
      "tags: ['sensitive', '1girl', 'fair_skin', 'solo', 'long_hair', 'shirt', 'blue_hair', 'upper_body', 'lips', 'makeup', 'lipstick', 'realistic']\n",
      "filename: data/sample_images/000006.jpg, -> A female persona by himself with flowing blue hair, sensitive, fair skin, lengthy, shirt, sapphire, upper body, lips, makeup, lipstick and realistic. (Words: 22) \n",
      "tags: ['general', 'solo', 'looking_at_viewer', 'smile', 'short_hair', 'black_hair', '1boy', 'male_focus', 'portrait', 'pale_skin', 'realistic']\n",
      "filename: data/sample_images/000007.jpg, -> Showing a gentleman alone cropped ebony hair, general, looking at viewer, smile, trim, ebony, male focus, portrait, pale skin and realistic. (Words: 21) \n",
      "tags: ['general', 'solo', 'looking_at_viewer', 'short_hair', 'shirt', 'pale_skin', 'black_hair', '1boy', 'jacket', 'white_shirt', 'male_focus', 'collared_shirt', 'pants', 'formal', 'suit', 'realistic']\n",
      "filename: data/sample_images/000008.jpg, -> Showing a man solo trim jet-black hair, general, looking at viewer, bobbed, shirt, pale skin, jet-black, jacket, white shirt, male focus, collared shirt, pants, formal, suit and realistic. (Words: 28) \n",
      "tags: ['sensitive', '1girl', 'solo', 'long_hair', 'breasts', 'looking_at_viewer', 'smile', 'black_hair', 'jewelry', 'earrings', 'mole', 'grin', 'mole_on_breast', 'hands_on_own_hips', 'fair_skin', 'purple_skin']\n",
      "filename: data/sample_images/000009.jpg, -> A girl unaccompanied appears long black hair, adorned with trinkets, sensitive, lush, breasts, looking at viewer, smile, black, earrings, mole, grin, mole on breast, hands on own hips, fair skin and purple skin. (Words: 33) \n",
      "tags: ['sensitive', '1girl', 'solo', 'breasts', 'smile', 'cleavage', 'fair_skin', 'lips', 'realistic']\n",
      "filename: data/sample_images/000010.jpg, -> A girl solitary with sensitive, breasts, smile, cleavage, fair skin, lips and realistic. (Words: 13) \n"
     ]
    }
   ],
   "source": [
    "# Example usage\n",
    "import os\n",
    "# get device\n",
    "device = torch.device(\"cuda\" if torch.cuda.is_available() else \"cpu\")\n",
    "generator = CaptionGenerator()\n",
    "config_path = 'caption_config.json'\n",
    "\n",
    "img_dir = 'data/sample_images/'\n",
    "for filename in os.listdir(img_dir):\n",
    "    img_path = os.path.join(img_dir, filename)\n",
    "    tags = get_tags(image_path=img_path, device=device)\n",
    "    caption = generator.generate_caption(tags)\n",
    "    print(f\"tags: {tags}\")\n",
    "    print(f\"filename: {img_path}, -> {caption} (Words: {len(caption.split())}) \")"
   ]
  },
  {
   "cell_type": "code",
   "execution_count": null,
   "id": "de7c115d",
   "metadata": {},
   "outputs": [],
   "source": []
  },
  {
   "cell_type": "code",
   "execution_count": null,
   "id": "b1bc999f",
   "metadata": {},
   "outputs": [],
   "source": []
  },
  {
   "cell_type": "code",
   "execution_count": null,
   "id": "8202e0b6",
   "metadata": {},
   "outputs": [],
   "source": []
  }
 ],
 "metadata": {
  "kernelspec": {
   "display_name": "ml_env",
   "language": "python",
   "name": "python3"
  },
  "language_info": {
   "codemirror_mode": {
    "name": "ipython",
    "version": 3
   },
   "file_extension": ".py",
   "mimetype": "text/x-python",
   "name": "python",
   "nbconvert_exporter": "python",
   "pygments_lexer": "ipython3",
   "version": "3.11.13"
  }
 },
 "nbformat": 4,
 "nbformat_minor": 5
}
