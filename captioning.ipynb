{
 "cells": [
  {
   "cell_type": "code",
   "execution_count": null,
   "id": "63723721",
   "metadata": {},
   "outputs": [],
   "source": [
    "# !pip install -r requirements.txt"
   ]
  },
  {
   "cell_type": "code",
   "execution_count": 1,
   "id": "5a875c3f",
   "metadata": {},
   "outputs": [],
   "source": [
    "# imports\n",
    "import torch\n",
    "import json\n",
    "import os"
   ]
  },
  {
   "cell_type": "code",
   "execution_count": 2,
   "id": "621b91a0",
   "metadata": {},
   "outputs": [
    {
     "name": "stderr",
     "output_type": "stream",
     "text": [
      "/Users/rahulmeena/miniconda3/envs/ml_env/lib/python3.10/site-packages/tqdm/auto.py:21: TqdmWarning: IProgress not found. Please update jupyter and ipywidgets. See https://ipywidgets.readthedocs.io/en/stable/user_install.html\n",
      "  from .autonotebook import tqdm as notebook_tqdm\n"
     ]
    }
   ],
   "source": [
    "from scripts.image_captions import CaptionGenerator\n",
    "from scripts.image_tags import get_tags"
   ]
  },
  {
   "cell_type": "code",
   "execution_count": 10,
   "id": "de7c115d",
   "metadata": {},
   "outputs": [
    {
     "data": {
      "text/plain": [
       "{'00-106.png': 'A feminine character solitary long black hair, indoors, sensitive, dark skin, lengthy, breasts, looking at viewer, smile, ebony, dress, cleavage, belt and bar (place).',\n",
       " '00-107.png': 'Showing a female by himself lush ebony hair, in an interior setting, sensitive, dark skin, lush, breasts, looking at viewer, smile, jet-black, dress, cleavage, belt and bar (place).',\n",
       " '00-108.png': 'A young woman by their lonesome with flowing raven hair, inside, sensitive, dark skin, lengthy, breasts, looking at viewer, smile, ebony, dress, cleavage, belt and bar (place).',\n",
       " '00-102.png': 'Showing a feminine character by himself long ebony hair, inside, sensitive, dark skin, lush, breasts, looking at viewer, smile, black, dress, cleavage, belt and bar (place).',\n",
       " '00-105.png': 'A female figure by their lonesome with flowing black hair, inside, sensitive, dark skin, lush, breasts, looking at viewer, smile, ebony, dress, cleavage, belt and bar (place).',\n",
       " '00-100.png': 'A female persona by herself appears flowing black hair, inside, sensitive, dark skin, lengthy, breasts, looking at viewer, smile, black, dress, cleavage, belt and bar (place).',\n",
       " '00-101.png': 'A female isolated long raven hair, in an interior setting, sensitive, dark skin, long, breasts, looking at viewer, smile, raven, dress, cleavage, belt and bar (place).',\n",
       " '00-99.png': 'Showing a female solitary long black hair, inside, sensitive, dark skin, flowing, breasts, looking at viewer, smile, raven, dress, cleavage, belt and bar (place).',\n",
       " '00-135.png': 'Showing a female alone flowing jet-black hair, inside, sensitive, dark skin, lengthy, breasts, looking at viewer, smile, raven, dress, cleavage, belt and bar (place).',\n",
       " '00-134.png': 'A female figure by their lonesome appears lengthy black hair, inside, sensitive, dark skin, flowing, breasts, looking at viewer, smile, black, dress, cleavage, belt and bar (place).',\n",
       " '00-136.png': 'Showing a female figure alone lush jet-black hair, in an interior setting, sensitive, dark skin, lengthy, breasts, looking at viewer, smile, ebony, dress, cleavage, belt and bar (place).',\n",
       " '00-133.png': 'A female persona isolated with long jet-black hair, in an interior setting, sensitive, dark skin, flowing, breasts, looking at viewer, smile, jet-black, dress, cleavage, belt and bar (place).',\n",
       " '02-68.jpg': 'Showing a woman unaccompanied flowing jet-black hair, in an interior setting, sensitive, dark skin, lush, breasts, looking at viewer, smile, ebony, dress, cleavage, belt and bar (place).',\n",
       " '02-65.jpg': 'A female persona by himself appears long black hair, in an interior setting, sensitive, dark skin, lengthy, breasts, looking at viewer, smile, ebony, dress, cleavage, belt and bar (place).',\n",
       " '02-66.jpg': 'Showing a feminine character by their lonesome lush jet-black hair, indoors, sensitive, dark skin, long, breasts, looking at viewer, smile, black, dress, cleavage, belt and bar (place).',\n",
       " '02-32.jpg': 'A lady single indoors, questionable, breasts, looking at viewer, standing, purple hair, ass, nude, looking back, hair bun, from behind, water, wet, back, towel, fair skin, covering privates, realistic, purple skin, purple lips, holding towel, nude cover, photorealistic and widowmaker (overwatch).',\n",
       " '02-35.jpg': 'A woman standing alone appears lengthy hair, sensitive, lush, looking at viewer, navel, purple hair, horns, pointy ears, demon girl, dark skin and realistic.'}"
      ]
     },
     "execution_count": 10,
     "metadata": {},
     "output_type": "execute_result"
    }
   ],
   "source": [
    "\n",
    "base_dir = 'data/images/sample/'\n",
    "caption_path = 'data/captions.jsonl'\n",
    "\n",
    "# if caption file exist then resume \n",
    "captions = {}\n",
    "if os.path.exists(caption_path):\n",
    "    with open(caption_path, 'r') as f:\n",
    "        for line in f:\n",
    "            entry = json.loads(line)\n",
    "            captions[entry[\"file_name\"]] = entry[\"text\"]\n",
    "\n",
    "captions   "
   ]
  },
  {
   "cell_type": "code",
   "execution_count": null,
   "id": "ec92c5a5",
   "metadata": {},
   "outputs": [],
   "source": [
    "def save_jsonl(file_path = 'data/captions.jsonl'):\n",
    "    with open(caption_path, 'w') as f:\n",
    "        for file, caption in captions.items():\n",
    "            entry = {\"file_name\": file, \"text\": caption}\n",
    "            f.write(json.dumps(entry) + '\\n')"
   ]
  },
  {
   "cell_type": "code",
   "execution_count": 17,
   "id": "8202e0b6",
   "metadata": {},
   "outputs": [
    {
     "name": "stdout",
     "output_type": "stream",
     "text": [
      "✅ total files captioned: 0\n"
     ]
    }
   ],
   "source": [
    "generator = CaptionGenerator()\n",
    "device = 'cuda' if torch.cuda.is_available() else 'cpu'\n",
    "counter = 0\n",
    "for root, dirs, files in os.walk(base_dir):\n",
    "    for file in files:\n",
    "        if captions.get(file):\n",
    "            continue\n",
    "        filepath = os.path.join(root, file)\n",
    "        tags = get_tags(image_path=filepath, device=device)\n",
    "        caption = generator.generate_caption(tags)\n",
    "        captions[file] = caption\n",
    "        # save the caption file in between\n",
    "\n",
    "        if counter % 100 == 0:\n",
    "            save_jsonl()\n",
    "        \n",
    "        counter+=1\n",
    "        print(f\"filename: {file}, -> {caption} (Words: {len(caption.split())}) \")\n",
    "# final save\n",
    "save_jsonl()\n",
    "\n",
    "print(f\"✅ total files captioned: {counter}\")"
   ]
  },
  {
   "cell_type": "code",
   "execution_count": null,
   "id": "c88bab02",
   "metadata": {},
   "outputs": [],
   "source": []
  }
 ],
 "metadata": {
  "kernelspec": {
   "display_name": "ml_env",
   "language": "python",
   "name": "python3"
  },
  "language_info": {
   "codemirror_mode": {
    "name": "ipython",
    "version": 3
   },
   "file_extension": ".py",
   "mimetype": "text/x-python",
   "name": "python",
   "nbconvert_exporter": "python",
   "pygments_lexer": "ipython3",
   "version": "3.10.13"
  }
 },
 "nbformat": 4,
 "nbformat_minor": 5
}
